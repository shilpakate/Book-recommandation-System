{
 "cells": [
  {
   "cell_type": "code",
   "execution_count": 12,
   "metadata": {},
   "outputs": [
    {
     "name": "stdout",
     "output_type": "stream",
     "text": [
      "Overwriting app1.py\n"
     ]
    }
   ],
   "source": [
    "%%writefile app1.py\n",
    "import streamlit as st\n",
    "import pickle\n",
    "import re\n",
    "from sklearn import preprocessing\n",
    "\n",
    "st.title('Book Recommendation System')\n",
    "st.subheader(\"Natural Language Processing\")\n",
    "\n",
    "\n",
    "model1 = pickle.load(open('model1.pkl','rb'))\n",
    "model = pickle.load(open('model.pkl','rb'))\n",
    "model2 = pickle.load(open('model2-transform.pkl','rb'))\n",
    "\n",
    "def recommend(category):\n",
    "    recommended_books = model1[model1['category'] == category].sort_values(\n",
    "        by='Books', ascending=False)\n",
    "    rec_book_list = recommended_books[['Books']]\n",
    "    rec_book_list = rec_book_list.reset_index(drop=True)\n",
    "    return rec_book_list\n",
    "\n",
    "#text cleaning,lowercase,removing special characters\n",
    "def clean_summary(text):\n",
    "    # removing everything other than alphabets and numbers with spaces\n",
    "    text = re.sub('\\W+', ' ', text)\n",
    "    text = text.lower()  # converts all the text to lowercase\n",
    "    return text\n",
    "\n",
    "\n",
    "\n",
    "text_in = st.text_area('Enter Abstract/Content')\n",
    "rec = [clean_summary(text_in)]\n",
    "\n",
    "if st.button('Predict'):\n",
    "    t = model2.transform(rec)\n",
    "    le = preprocessing.LabelEncoder()\n",
    "    le.fit_transform(model1.category)\n",
    "    pr = le.inverse_transform(model.predict(t))\n",
    "    \n",
    "    \n",
    "    st.write('Books based on the prediction are :',recommend(pr[0]))"
   ]
  },
  {
   "cell_type": "code",
   "execution_count": null,
   "metadata": {},
   "outputs": [],
   "source": []
  }
 ],
 "metadata": {
  "kernelspec": {
   "display_name": "Python 3",
   "language": "python",
   "name": "python3"
  },
  "language_info": {
   "codemirror_mode": {
    "name": "ipython",
    "version": 3
   },
   "file_extension": ".py",
   "mimetype": "text/x-python",
   "name": "python",
   "nbconvert_exporter": "python",
   "pygments_lexer": "ipython3",
   "version": "3.8.5"
  }
 },
 "nbformat": 4,
 "nbformat_minor": 4
}
